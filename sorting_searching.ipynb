{
 "cells": [
  {
   "cell_type": "code",
   "execution_count": 7,
   "metadata": {
    "collapsed": true
   },
   "outputs": [],
   "source": [
    "from math import floor\n",
    "from copy import copy"
   ]
  },
  {
   "cell_type": "code",
   "execution_count": 89,
   "metadata": {},
   "outputs": [],
   "source": [
    "def mergesort(numberlist, li, ri):\n",
    "    if li < ri:\n",
    "        mid = floor((li + ri) /2)\n",
    "        numberlist = mergesort(numberlist, li, mid)\n",
    "        numberlist = mergesort(numberlist, mid+1, ri)\n",
    "        numberlist = merge(numberlist, li, ri)\n",
    "    return numberlist\n",
    "\n",
    "def merge(numberlist, li, rend):\n",
    "    mid = ceil((li + rend) / 2)\n",
    "    helper = copy(numberlist)\n",
    "    ri = mid\n",
    "    \"\"\"Seems like there must be an easier method \n",
    "    than having to check if we have an even or \n",
    "    odd length list.\n",
    "    passing two ordered lists around and checking \n",
    "    if they're empty would be one\"\"\"\n",
    "    if (rend - li) % 2 == 0: \n",
    "        mid += 1\n",
    "        ri += 1\n",
    "    c = li\n",
    "    while li < mid and ri <= rend:\n",
    "        if helper[li] <= helper[ri]:\n",
    "            numberlist[c] = helper[li]\n",
    "            li += 1\n",
    "        else:\n",
    "            numberlist[c] = helper[ri]\n",
    "            ri += 1\n",
    "        c += 1\n",
    "    remaining = mid - li \n",
    "    for i in range(remaining):\n",
    "        numberlist[c+i] = helper[li+i]\n",
    "    return numberlist"
   ]
  },
  {
   "cell_type": "code",
   "execution_count": 94,
   "metadata": {
    "collapsed": true
   },
   "outputs": [],
   "source": [
    "def quicksort(numberlist, li, ri):\n",
    "    idx = order_pivot(numberlist, li, ri)\n",
    "    if li < idx - 2:\n",
    "        quicksort(numberlist, li, idx-2)\n",
    "    if ri > idx:\n",
    "        quicksort(numberlist, idx, ri)\n",
    "    return numberlist\n",
    "\n",
    "def order_pivot(numberlist, li, ri):\n",
    "    p = numberlist[floor((li+ri)/2)]\n",
    "    while li < ri:\n",
    "        while numberlist[li] < p: li += 1\n",
    "        while numberlist[ri] > p: ri -= 1\n",
    "        numberlist = swap(numberlist, li, ri)\n",
    "        li += 1\n",
    "        ri += 1\n",
    "    return li\n",
    "\n",
    "def swap(numberlist, li, ri):\n",
    "    temp = numberlist[li]\n",
    "    numberlist[li] = numberlist[ri]\n",
    "    numberlist[ri] = temp\n",
    "    return numberlist"
   ]
  },
  {
   "cell_type": "code",
   "execution_count": 95,
   "metadata": {},
   "outputs": [
    {
     "name": "stdout",
     "output_type": "stream",
     "text": [
      "[3, 2, 4, 1, 7, 90, 5, 99, 104]\n",
      "[1, 2, 3, 4, 5, 7, 90, 99, 104]\n",
      "[1, 2, 3, 4, 5, 7, 90, 99, 104]\n"
     ]
    }
   ],
   "source": [
    "# tosort = [3, 2, 4, 1, 7, 90, 5]\n",
    "# tosort = [3, 2, 4, 2, 7, 34, 5, 23]\n",
    "tosort = [3, 2, 4, 1, 7, 90, 5, 99, 104]\n",
    "# tosort = [3, 2, 4, 1, 10 7]\n",
    "# tosort = [3, 2, 4, 1, 7, 90, 5]\n",
    "print(tosort)\n",
    "print(mergesort(tosort, 0, len(tosort)-1))\n",
    "print(quicksort(tosort, 0, len(tosort)-1))"
   ]
  },
  {
   "cell_type": "code",
   "execution_count": null,
   "metadata": {
    "collapsed": true
   },
   "outputs": [],
   "source": []
  },
  {
   "cell_type": "code",
   "execution_count": null,
   "metadata": {
    "collapsed": true
   },
   "outputs": [],
   "source": []
  }
 ],
 "metadata": {
  "kernelspec": {
   "display_name": "Python 3",
   "language": "python",
   "name": "python3"
  },
  "language_info": {
   "codemirror_mode": {
    "name": "ipython",
    "version": 3
   },
   "file_extension": ".py",
   "mimetype": "text/x-python",
   "name": "python",
   "nbconvert_exporter": "python",
   "pygments_lexer": "ipython3",
   "version": "3.5.3"
  }
 },
 "nbformat": 4,
 "nbformat_minor": 2
}
