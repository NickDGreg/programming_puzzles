{
 "cells": [
  {
   "cell_type": "code",
   "execution_count": 1,
   "metadata": {
    "collapsed": true
   },
   "outputs": [],
   "source": [
    "import random"
   ]
  },
  {
   "cell_type": "code",
   "execution_count": 120,
   "metadata": {},
   "outputs": [],
   "source": [
    "class Card(object):\n",
    "    def __init__(self, value, suit):\n",
    "        assert value > 0 and value < 14, \"A value of %r is not in range 1-13 (inclusive)\" %value\n",
    "        assert suit in ['spades', 'clubs', 'diamonds',  'hearts'], \"Suit must be: clubs, diamonds, spades, or hearts\"\n",
    "        self.value = value\n",
    "        self.suit = suit\n",
    "    \n",
    "    def __str__(self):\n",
    "        return \"%(cardname)s of %(cardsuit)s\" %{'cardname': self.get_name(), 'cardsuit': self.get_suit()}\n",
    "    \n",
    "    #@abstractmethod but without using the from abc import\n",
    "    def colour(self):\n",
    "        raise NotImplementedError\n",
    "        \n",
    "    def get_name(self):\n",
    "        if self.value == 1:\n",
    "            return \"Ace\"\n",
    "        if self.value == 11:\n",
    "            return \"Jack\"\n",
    "        if self.value == 12:\n",
    "            return \"Queen\"\n",
    "        if self.value == 13:\n",
    "            return \"King\"\n",
    "        else:\n",
    "            return str(self.value)\n",
    "        \n",
    "    def get_suit(self):\n",
    "        return self.suit"
   ]
  },
  {
   "cell_type": "code",
   "execution_count": 121,
   "metadata": {},
   "outputs": [],
   "source": [
    "class BlackjackCard(Card):\n",
    "#     def __init__(self, value, suit):\n",
    "#         super().__init__(value, suit)\n",
    "#         if self.value > 10:\n",
    "#             self.value = 10\n",
    "    \n",
    "    def get_max_value(self):\n",
    "        if self.value == 1:\n",
    "            return 11\n",
    "        else:\n",
    "            return self.value            "
   ]
  },
  {
   "cell_type": "code",
   "execution_count": 122,
   "metadata": {},
   "outputs": [],
   "source": [
    "class Deck(object):\n",
    "    def __init__(self):\n",
    "        self.cards = self.generate_deck()\n",
    "        self.num_dealt = 0\n",
    "    \n",
    "    def generate_deck(self):\n",
    "        cards = []\n",
    "        for value in range(1,14):\n",
    "            for suit in ['clubs', 'diamonds', 'spades', 'hearts']:\n",
    "                cards.append(BlackjackCard(value, suit))\n",
    "        return cards\n",
    "    \n",
    "    def shuffle(self):\n",
    "        for _ in range(200):\n",
    "            first_card = random.randrange(len(self.cards))\n",
    "            second_card = random.randrange(len(self.cards))\n",
    "            temp = self.cards[first_card]\n",
    "            self.cards[first_card] = self.cards[second_card]\n",
    "            self.cards[second_card] = temp\n",
    "            \n",
    "    def draw_card(self):\n",
    "        if self.num_dealt == len(self.cards) - 1:\n",
    "            print('Entire deck has been dealt. Opening a new one')\n",
    "            self.cards = self.generate_deck()\n",
    "            self.shuffle()\n",
    "            self.num_dealt = 0\n",
    "            return self.draw_card()\n",
    "        else:\n",
    "            self.num_dealt += 1\n",
    "            return self.cards[self.num_dealt - 1]\n",
    "    \n",
    "    def look_at_first(self):\n",
    "        print(self.cards[self.num_dealt])"
   ]
  },
  {
   "cell_type": "code",
   "execution_count": 123,
   "metadata": {
    "collapsed": true
   },
   "outputs": [],
   "source": [
    "class BlackjackHand(object):\n",
    "    def __init__(self, c1, c2):\n",
    "        self.cards = [c1, c2]\n",
    "        self.in_game = True\n",
    "        self.score = self.get_score()\n",
    "        if c1.value == 1 or c2.value == 1:\n",
    "            self.ace_in_hand = True\n",
    "        else:\n",
    "            self.ace_in_hand = False\n",
    "    \n",
    "    def __str__(self):\n",
    "        hand = ''\n",
    "        for idx, card in enumerate(self.cards):\n",
    "            hand += (card.get_name()) + ' of ' + str(card.get_suit()) \n",
    "            if idx < len(self.cards) - 1:\n",
    "                hand += ', '\n",
    "            else:\n",
    "                hand += '\\n'\n",
    "        hand += 'Score: ' + str(self.score)\n",
    "        return hand\n",
    "    \n",
    "    def add_card(self, card):\n",
    "        if card.value == 1:\n",
    "            self.ace_in_hand = True\n",
    "        print(card)\n",
    "        self.cards.append(card)\n",
    "        self.score = self.get_score()\n",
    "        \n",
    "    def get_score(self):\n",
    "        score = 0\n",
    "        for card in self.cards:\n",
    "            score += card.get_max_value()\n",
    "        if score <= 21:\n",
    "            print('New score: ' + str(score))\n",
    "            return score\n",
    "        if self.ace_in_hand:\n",
    "            score -= 10\n",
    "        if score <= 21:\n",
    "            print('New score: ' + str(score))\n",
    "            return score\n",
    "        else:\n",
    "            print('New score: ' + str(score))\n",
    "            print(\"Bust! Score is 0\")\n",
    "            self.in_game = False\n",
    "            return 0\n",
    "        "
   ]
  },
  {
   "cell_type": "code",
   "execution_count": 124,
   "metadata": {},
   "outputs": [
    {
     "name": "stdout",
     "output_type": "stream",
     "text": [
      "New score: 8\n",
      "5 of spades, 3 of clubs\n",
      "Score: 8\n",
      "2 of spades\n",
      "New score: 10\n"
     ]
    }
   ],
   "source": [
    "deck = Deck()\n",
    "deck.shuffle()\n",
    "c1 = deck.draw_card()\n",
    "c2 = deck.draw_card()\n",
    "hand = BlackjackHand(c1, c2)\n",
    "print(hand)\n",
    "c3 = deck.draw_card()\n",
    "hand.add_card(c3)"
   ]
  },
  {
   "cell_type": "code",
   "execution_count": 118,
   "metadata": {},
   "outputs": [
    {
     "name": "stdout",
     "output_type": "stream",
     "text": [
      "2 of hearts\n",
      "New score: 24\n",
      "Bust! Score is 0\n"
     ]
    }
   ],
   "source": [
    "c4 = deck.draw_card()\n",
    "hand.add_card(c4)"
   ]
  },
  {
   "cell_type": "code",
   "execution_count": 119,
   "metadata": {},
   "outputs": [
    {
     "name": "stdout",
     "output_type": "stream",
     "text": [
      "3 of hearts\n",
      "New score: 27\n",
      "Bust! Score is 0\n"
     ]
    }
   ],
   "source": [
    "c4 = deck.draw_card()\n",
    "hand.add_card(c4)"
   ]
  },
  {
   "cell_type": "code",
   "execution_count": null,
   "metadata": {
    "collapsed": true
   },
   "outputs": [],
   "source": []
  },
  {
   "cell_type": "code",
   "execution_count": null,
   "metadata": {
    "collapsed": true
   },
   "outputs": [],
   "source": []
  }
 ],
 "metadata": {
  "kernelspec": {
   "display_name": "Python 3",
   "language": "python",
   "name": "python3"
  },
  "language_info": {
   "codemirror_mode": {
    "name": "ipython",
    "version": 3
   },
   "file_extension": ".py",
   "mimetype": "text/x-python",
   "name": "python",
   "nbconvert_exporter": "python",
   "pygments_lexer": "ipython3",
   "version": "3.5.3"
  }
 },
 "nbformat": 4,
 "nbformat_minor": 2
}
