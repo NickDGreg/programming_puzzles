{
 "cells": [
  {
   "cell_type": "code",
   "execution_count": 7,
   "metadata": {},
   "outputs": [
    {
     "name": "stdout",
     "output_type": "stream",
     "text": [
      "1\n",
      "[2, 3, 4]\n",
      "[5, 2, 3, 4]\n"
     ]
    }
   ],
   "source": [
    "tester = [1,2,3,4]\n",
    "print(tester.pop(0))\n",
    "print(tester)\n",
    "tester.insert(0,5)\n",
    "print(tester)"
   ]
  },
  {
   "cell_type": "code",
   "execution_count": 9,
   "metadata": {},
   "outputs": [
    {
     "name": "stdout",
     "output_type": "stream",
     "text": [
      "True\n",
      "False\n",
      "False\n"
     ]
    }
   ],
   "source": [
    "def is_matched(expression):\n",
    "    open_b = ['[', '(', '{']\n",
    "    opened = []\n",
    "    for b in expression:\n",
    "        if b == '[': opened.append(']')\n",
    "        elif b == '{': opened.append('}')\n",
    "        elif b == '(': opened.append(')')\n",
    "        elif not opened:\n",
    "            return False\n",
    "        else:\n",
    "            last = opened.pop()\n",
    "            if last != b:\n",
    "                return False\n",
    "    if len(opened) == 0:\n",
    "        return True\n",
    "    else:\n",
    "        return False\n",
    "    \n",
    "expressions = ['{[()]}','{[(])}','{{[[(())]]}}]']\n",
    "for expression in expressions:\n",
    "    print(is_matched(expression))"
   ]
  },
  {
   "cell_type": "code",
   "execution_count": null,
   "metadata": {
    "collapsed": true
   },
   "outputs": [],
   "source": []
  }
 ],
 "metadata": {
  "kernelspec": {
   "display_name": "Python 3",
   "language": "python",
   "name": "python3"
  },
  "language_info": {
   "codemirror_mode": {
    "name": "ipython",
    "version": 3
   },
   "file_extension": ".py",
   "mimetype": "text/x-python",
   "name": "python",
   "nbconvert_exporter": "python",
   "pygments_lexer": "ipython3",
   "version": "3.5.3"
  }
 },
 "nbformat": 4,
 "nbformat_minor": 2
}
