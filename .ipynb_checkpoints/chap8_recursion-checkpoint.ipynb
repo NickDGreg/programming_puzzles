{
 "cells": [
  {
   "cell_type": "code",
   "execution_count": 6,
   "metadata": {
    "collapsed": true
   },
   "outputs": [],
   "source": [
    "from copy import deepcopy\n",
    "from math import floor"
   ]
  },
  {
   "cell_type": "code",
   "execution_count": null,
   "metadata": {
    "collapsed": true
   },
   "outputs": [],
   "source": [
    "def fib(num, listy):\n",
    "    print('fib call for number: ' + str(num))\n",
    "    print(listy)\n",
    "    if num <= 1:\n",
    "        print('return base case')\n",
    "        return num\n",
    "    if listy[num-1] == 0:\n",
    "        listy[num-1] = fib(num-1, listy) + fib(num-2, listy)\n",
    "    print('return a value for ' + str(num))\n",
    "    print()\n",
    "    return listy[num-1]"
   ]
  },
  {
   "cell_type": "code",
   "execution_count": null,
   "metadata": {
    "collapsed": true,
    "scrolled": true
   },
   "outputs": [],
   "source": [
    "fibnum = fib(6, [0,0,0,0,0,0])"
   ]
  },
  {
   "cell_type": "code",
   "execution_count": null,
   "metadata": {
    "collapsed": true
   },
   "outputs": [],
   "source": [
    "def stairhops(num_stairs, num_paths):\n",
    "    \"\"\"ex 8.1 steps of length n, can take steps of 1,2, or 3. \n",
    "    How many ways can you run up the steps?\n",
    "    \"\"\"\n",
    "    if num_stairs == 0:\n",
    "        return 0\n",
    "    if num_stairs == 1:\n",
    "        return 1\n",
    "    if num_stairs == 2:\n",
    "        return 2\n",
    "    if num_stairs == 3:\n",
    "        return 4\n",
    "    if num_paths[num_stairs-1] == 0:\n",
    "        num_paths[num_stairs-1] = stairhops(num_stairs-1, num_paths) + stairhops(num_stairs-2, num_paths) + stairhops(num_stairs-3, num_paths)\n",
    "    return num_paths[num_stairs-1]"
   ]
  },
  {
   "cell_type": "code",
   "execution_count": null,
   "metadata": {
    "collapsed": true
   },
   "outputs": [],
   "source": [
    "numstairs = 5\n",
    "num_hops = [0 for _ in range(numstairs)] \n",
    "print(stairhops(numstairs, num_hops))"
   ]
  },
  {
   "cell_type": "code",
   "execution_count": null,
   "metadata": {
    "collapsed": true
   },
   "outputs": [],
   "source": [
    "def robotgrid(pos, grid):\n",
    "    if pos[0] == len(grid) and pos[1] == len(grid[-1]):\n",
    "        return False\n",
    "    final = [len(grid)-1, len(grid[0])-1]\n",
    "    visited = [pos]\n",
    "    currentpath = ''\n",
    "    while pos != final:\n",
    "        if pos[0]+1 < len(grid) and grid[pos[0]+1][pos[1]] == 1 and [pos[0]+1,pos[1]] not in visited:\n",
    "            currentpath += 'd'\n",
    "            pos[0] += 1\n",
    "        elif pos[1]+1 < len(grid[0]) and grid[pos[0]][pos[1]+1] == 1 and [pos[0],pos[1]+1] not in visited:\n",
    "            currentpath += 'r'\n",
    "            pos[1] += 1\n",
    "        else:\n",
    "            if currentpath == '':\n",
    "                return False\n",
    "            visited.append(deepcopy(pos))\n",
    "            if currentpath[-1] == 'd':\n",
    "                pos[0] -= 1\n",
    "            else:\n",
    "                pos[1] -= 1\n",
    "            currentpath = currentpath[:-1] \n",
    "    return currentpath"
   ]
  },
  {
   "cell_type": "code",
   "execution_count": null,
   "metadata": {
    "collapsed": true
   },
   "outputs": [],
   "source": [
    "grid = [[1,1,1,1],[0,0,1,0],[1,0,0,1],[1,1,0,1]]\n",
    "print(robotgrid([0,0], grid))"
   ]
  },
  {
   "cell_type": "code",
   "execution_count": 42,
   "metadata": {},
   "outputs": [],
   "source": [
    "def magic_idx(ordered_list, num_removed=0):\n",
    "    \"\"\" ex 8.3 ordered list can have repeated numbers \n",
    "    magicidx is: idx = list[idx]\"\"\"\n",
    "    if len(ordered_list) == 0: return False\n",
    "    found = False\n",
    "    idx = floor(len(ordered_list)/2)\n",
    "    if idx + num_removed == ordered_list[idx]:\n",
    "        return idx + num_removed\n",
    "    elif len(ordered_list) == 1:\n",
    "        return False\n",
    "    if idx + num_removed > ordered_list[idx]:\n",
    "        found = magic_idx(ordered_list[idx+1:], num_removed+len(ordered_list)-idx+1)\n",
    "    if not found:\n",
    "        idx = min([idx, ordered_list[idx]])\n",
    "        found = magic_idx(ordered_list[:idx], num_removed)\n",
    "    return found"
   ]
  },
  {
   "cell_type": "code",
   "execution_count": 44,
   "metadata": {},
   "outputs": [
    {
     "name": "stdout",
     "output_type": "stream",
     "text": [
      "\n",
      "[-10, -5, -1, 0, 2, 3, 5, 6, 8, 9]\n",
      "num removed: 0\n",
      "idx: 5\n",
      "idx too big\n",
      "idx + 1 = 6\n",
      "\n",
      "[5, 6, 8, 9]\n",
      "num removed: 6\n",
      "idx: 2\n",
      "found magic\n",
      "found is 8\n",
      "for list: [-10, -5, -1, 0, 2, 3, 5, 6, 8, 9]\n",
      "8\n"
     ]
    }
   ],
   "source": [
    "ordered_list = [0,0,0,0,0,1,2,6,11,12]\n",
    "list_2 = [-10,-5,-1,0,2,3,5,6,8,9]\n",
    "print(magic_idx(list_2))"
   ]
  },
  {
   "cell_type": "code",
   "execution_count": 8,
   "metadata": {},
   "outputs": [
    {
     "name": "stdout",
     "output_type": "stream",
     "text": [
      "ye\n"
     ]
    }
   ],
   "source": [
    "if 116: print('ye')"
   ]
  },
  {
   "cell_type": "code",
   "execution_count": 15,
   "metadata": {},
   "outputs": [
    {
     "name": "stdout",
     "output_type": "stream",
     "text": [
      "[0, 0, 0, 0, 0, 1, 2, 6, 11, 12]\n"
     ]
    }
   ],
   "source": [
    "print(ordered_list[:100])"
   ]
  },
  {
   "cell_type": "code",
   "execution_count": null,
   "metadata": {
    "collapsed": true
   },
   "outputs": [],
   "source": []
  }
 ],
 "metadata": {
  "kernelspec": {
   "display_name": "Python 3",
   "language": "python",
   "name": "python3"
  },
  "language_info": {
   "codemirror_mode": {
    "name": "ipython",
    "version": 3
   },
   "file_extension": ".py",
   "mimetype": "text/x-python",
   "name": "python",
   "nbconvert_exporter": "python",
   "pygments_lexer": "ipython3",
   "version": "3.5.3"
  }
 },
 "nbformat": 4,
 "nbformat_minor": 2
}
