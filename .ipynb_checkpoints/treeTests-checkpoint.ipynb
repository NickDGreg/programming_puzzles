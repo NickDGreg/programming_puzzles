{
 "cells": [
  {
   "cell_type": "code",
   "execution_count": 1,
   "metadata": {},
   "outputs": [],
   "source": [
    "from treeOperations import (createBinarySearchTree, printTree, listOfDepths, \n",
    "                            printLinkedList, listOfDepths2)"
   ]
  },
  {
   "cell_type": "code",
   "execution_count": 2,
   "metadata": {
    "collapsed": true
   },
   "outputs": [],
   "source": [
    "treevalues = [1, 3, 4, 5, 9, 12, 17]"
   ]
  },
  {
   "cell_type": "code",
   "execution_count": 3,
   "metadata": {},
   "outputs": [],
   "source": [
    "root = createBinarySearchTree(treevalues)"
   ]
  },
  {
   "cell_type": "code",
   "execution_count": 4,
   "metadata": {},
   "outputs": [
    {
     "name": "stdout",
     "output_type": "stream",
     "text": [
      "1\n",
      "3\n",
      "4\n",
      "5\n",
      "9\n",
      "12\n",
      "17\n"
     ]
    }
   ],
   "source": [
    "printTree(root)"
   ]
  },
  {
   "cell_type": "code",
   "execution_count": 5,
   "metadata": {},
   "outputs": [
    {
     "name": "stdout",
     "output_type": "stream",
     "text": [
      "\n",
      "5\n",
      "\n",
      "3\n",
      "12\n",
      "\n",
      "1\n",
      "4\n",
      "9\n",
      "17\n"
     ]
    }
   ],
   "source": [
    "LLnodes = listOfDepths([root], [])\n",
    "LLnodes2 = listOfDepths(root)"
   ]
  },
  {
   "cell_type": "code",
   "execution_count": 6,
   "metadata": {},
   "outputs": [
    {
     "name": "stdout",
     "output_type": "stream",
     "text": [
      "5\n",
      "\n",
      "3\n",
      "12\n",
      "\n",
      "1\n",
      "4\n",
      "9\n",
      "17\n",
      "\n"
     ]
    }
   ],
   "source": [
    "for n in LLnodes:\n",
    "    printLinkedList(n)\n",
    "    print()\n",
    "\n",
    "for n in LLnodes2:\n",
    "    printLinkedList(n)\n",
    "    print()"
   ]
  },
  {
   "cell_type": "code",
   "execution_count": null,
   "metadata": {
    "collapsed": true
   },
   "outputs": [],
   "source": []
  }
 ],
 "metadata": {
  "kernelspec": {
   "display_name": "Python 3",
   "language": "python",
   "name": "python3"
  },
  "language_info": {
   "codemirror_mode": {
    "name": "ipython",
    "version": 3
   },
   "file_extension": ".py",
   "mimetype": "text/x-python",
   "name": "python",
   "nbconvert_exporter": "python",
   "pygments_lexer": "ipython3",
   "version": "3.5.3"
  }
 },
 "nbformat": 4,
 "nbformat_minor": 2
}
