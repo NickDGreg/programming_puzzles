{
 "cells": [
  {
   "cell_type": "code",
   "execution_count": 1,
   "metadata": {
    "collapsed": true
   },
   "outputs": [],
   "source": [
    "#Q1.5 One Away\n",
    "def oneaway(s1, s2):\n",
    "    l1 = len(s1)\n",
    "    l2 = len(s2)\n",
    "    if abs(l1 - l2) > 1: return False\n",
    "    if l1 > l2: \n",
    "        longstr = s1\n",
    "        shortstr = s2\n",
    "    elif l2 > l1:\n",
    "        longstr = s2\n",
    "        shortstr = s1\n",
    "    else:\n",
    "        longstr = s1\n",
    "        shortstr = s2\n",
    "    difference = False\n",
    "    shortidx = 0\n",
    "    step = 1 - abs(l1 - l2)\n",
    "    for l in longstr:\n",
    "        if l != shortstr[shortidx]:\n",
    "            if difference == True: \n",
    "                return False\n",
    "            else:\n",
    "                difference = True\n",
    "                shortidx += step\n",
    "        else:\n",
    "            shortidx += 1\n",
    "            if shortidx == len(shortstr): break\n",
    "    return True"
   ]
  },
  {
   "cell_type": "code",
   "execution_count": 9,
   "metadata": {},
   "outputs": [
    {
     "name": "stdout",
     "output_type": "stream",
     "text": [
      "True\n",
      "True\n",
      "True\n",
      "False\n"
     ]
    }
   ],
   "source": [
    "s1 = 'pale'\n",
    "s2 = 'palle'\n",
    "s3 = 'bale'\n",
    "s4 = 'pales'\n",
    "s5 = 'pareo'\n",
    "print(oneaway(s1,s2))\n",
    "print(oneaway(s1,s3))\n",
    "print(oneaway(s1,s4))\n",
    "print(oneaway(s1,s5))"
   ]
  },
  {
   "cell_type": "code",
   "execution_count": 68,
   "metadata": {},
   "outputs": [],
   "source": [
    "from math import floor\n",
    "import numpy as np\n",
    "from copy import copy\n",
    "#Q1.7 def rotatematrix\n",
    "\"\"\"trying to do this by moving entire rows is more difficult than just replacing index by index\n",
    "\"\"\"\n",
    "def rotate_matrix(mat):\n",
    "    start = 0\n",
    "    end = len(mat) - 1\n",
    "    for layer in range(floor(len(mat)/2)):\n",
    "        end = len(mat) - 1 - layer\n",
    "        for i in range(layer, end):\n",
    "            #this ensures the end for inner layers you can still walk through the bottom and left sides\n",
    "            #correctly i will automatically index the correct value in top and right, whereas b and l\n",
    "            #we need to walk from the end to the start+1 so subtract 0,1,2,... from the end index\n",
    "            #this offset ensures firsti:offset=0, second:offset=1 a count would do the same thing but clearer\n",
    "            offset = i - layer \n",
    "            print(offset)\n",
    "            temp = mat[layer, i]\n",
    "            mat[layer, i] = mat[end-offset, layer] #left -> top\n",
    "            mat[end-offset, layer] = mat[end, end-offset] #bottom -> left\n",
    "            mat[end, end-offset] = mat[i, end] #right -> bottom\n",
    "            mat[i, end] = temp #top -> right\n",
    "    return mat"
   ]
  },
  {
   "cell_type": "code",
   "execution_count": 69,
   "metadata": {},
   "outputs": [
    {
     "name": "stdout",
     "output_type": "stream",
     "text": [
      "[[ 0  1  2  3  4]\n",
      " [ 5  6  7  8  9]\n",
      " [10 11 12 13 14]\n",
      " [15 16 17 18 19]\n",
      " [20 21 22 23 24]]\n",
      "0\n",
      "1\n",
      "2\n",
      "3\n",
      "0\n",
      "1\n"
     ]
    },
    {
     "data": {
      "text/plain": [
       "array([[20, 15, 10,  5,  0],\n",
       "       [21, 16, 11,  6,  1],\n",
       "       [22, 17, 12,  7,  2],\n",
       "       [23, 18, 13,  8,  3],\n",
       "       [24, 19, 14,  9,  4]])"
      ]
     },
     "execution_count": 69,
     "metadata": {},
     "output_type": "execute_result"
    }
   ],
   "source": [
    "a1 = np.arange(25).reshape((5,5))\n",
    "a2 = np.arange(16).reshape((4,4))\n",
    "print(a1)\n",
    "rotate_matrix(a1)"
   ]
  },
  {
   "cell_type": "code",
   "execution_count": null,
   "metadata": {
    "collapsed": true
   },
   "outputs": [],
   "source": []
  },
  {
   "cell_type": "code",
   "execution_count": null,
   "metadata": {
    "collapsed": true
   },
   "outputs": [],
   "source": []
  }
 ],
 "metadata": {
  "kernelspec": {
   "display_name": "Python 3",
   "language": "python",
   "name": "python3"
  },
  "language_info": {
   "codemirror_mode": {
    "name": "ipython",
    "version": 3
   },
   "file_extension": ".py",
   "mimetype": "text/x-python",
   "name": "python",
   "nbconvert_exporter": "python",
   "pygments_lexer": "ipython3",
   "version": "3.5.3"
  }
 },
 "nbformat": 4,
 "nbformat_minor": 2
}
