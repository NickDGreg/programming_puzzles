{
 "cells": [
  {
   "cell_type": "code",
   "execution_count": 1,
   "metadata": {
    "collapsed": true
   },
   "outputs": [],
   "source": [
    "#Q1.5 One Away\n",
    "def oneaway(s1, s2):\n",
    "    l1 = len(s1)\n",
    "    l2 = len(s2)\n",
    "    if abs(l1 - l2) > 1: return False\n",
    "    if l1 > l2: \n",
    "        longstr = s1\n",
    "        shortstr = s2\n",
    "    elif l2 > l1:\n",
    "        longstr = s2\n",
    "        shortstr = s1\n",
    "    else:\n",
    "        longstr = s1\n",
    "        shortstr = s2\n",
    "    difference = False\n",
    "    shortidx = 0\n",
    "    step = 1 - abs(l1 - l2)\n",
    "    for l in longstr:\n",
    "        if l != shortstr[shortidx]:\n",
    "            if difference == True: \n",
    "                return False\n",
    "            else:\n",
    "                difference = True\n",
    "                shortidx += step\n",
    "        else:\n",
    "            shortidx += 1\n",
    "            if shortidx == len(shortstr): break\n",
    "    return True"
   ]
  },
  {
   "cell_type": "code",
   "execution_count": 9,
   "metadata": {},
   "outputs": [
    {
     "name": "stdout",
     "output_type": "stream",
     "text": [
      "True\n",
      "True\n",
      "True\n",
      "False\n"
     ]
    }
   ],
   "source": [
    "s1 = 'pale'\n",
    "s2 = 'palle'\n",
    "s3 = 'bale'\n",
    "s4 = 'pales'\n",
    "s5 = 'pareo'\n",
    "print(oneaway(s1,s2))\n",
    "print(oneaway(s1,s3))\n",
    "print(oneaway(s1,s4))\n",
    "print(oneaway(s1,s5))"
   ]
  },
  {
   "cell_type": "code",
   "execution_count": null,
   "metadata": {
    "collapsed": true
   },
   "outputs": [],
   "source": []
  }
 ],
 "metadata": {
  "kernelspec": {
   "display_name": "Python 3",
   "language": "python",
   "name": "python3"
  },
  "language_info": {
   "codemirror_mode": {
    "name": "ipython",
    "version": 3
   },
   "file_extension": ".py",
   "mimetype": "text/x-python",
   "name": "python",
   "nbconvert_exporter": "python",
   "pygments_lexer": "ipython3",
   "version": "3.5.3"
  }
 },
 "nbformat": 4,
 "nbformat_minor": 2
}
