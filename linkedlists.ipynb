{
 "cells": [
  {
   "cell_type": "code",
   "execution_count": 1,
   "metadata": {},
   "outputs": [],
   "source": [
    "from linkedLists import LLNode, LinkedList"
   ]
  },
  {
   "cell_type": "code",
   "execution_count": 4,
   "metadata": {
    "collapsed": true
   },
   "outputs": [],
   "source": [
    "def createLL_from_string(string):\n",
    "    string = string.replace(' ', '').lower()\n",
    "    ll = LinkedList()\n",
    "    for letter in string:\n",
    "        ll.add(letter)\n",
    "    return ll"
   ]
  },
  {
   "cell_type": "code",
   "execution_count": 30,
   "metadata": {},
   "outputs": [],
   "source": [
    "p1 = createLL_from_string('abbaabba')\n",
    "p2 = createLL_from_string('abcba')\n",
    "p3 = createLL_from_string('abcd')"
   ]
  },
  {
   "cell_type": "code",
   "execution_count": 33,
   "metadata": {},
   "outputs": [],
   "source": [
    "def checkpalindrome(ll):\n",
    "    r1 = ll.head\n",
    "    r2 = ll.head\n",
    "    letters = []\n",
    "    length = 'odd'\n",
    "    while r2.next:\n",
    "        letters.append(r1.value)\n",
    "        print('r1: {}'.format(r1.value))\n",
    "        r1 = r1.next\n",
    "        print('r2: {}'.format(r2.value))\n",
    "        if r2.next.next: \n",
    "            r2 = r2.next.next  \n",
    "        else:\n",
    "            r2 = r2.next\n",
    "            length = 'even'\n",
    "    print('r2: {}'.format(r2.value))\n",
    "    print(letters)\n",
    "    if length == 'odd':\n",
    "        r1 = r1.next\n",
    "        letters.pop()\n",
    "    \n",
    "    while r1:\n",
    "        letter = letters.pop()\n",
    "        if r1.value != letter:\n",
    "            print(r1.value)\n",
    "            print(letter)\n",
    "            return False\n",
    "        else:\n",
    "            print(r1.value)\n",
    "            print(letter)\n",
    "            r1 = r1.next\n",
    "    return True"
   ]
  },
  {
   "cell_type": "code",
   "execution_count": 34,
   "metadata": {},
   "outputs": [
    {
     "name": "stdout",
     "output_type": "stream",
     "text": [
      "r1: a\n",
      "r2: a\n",
      "r1: b\n",
      "r2: b\n",
      "r1: b\n",
      "r2: a\n",
      "r1: a\n",
      "r2: b\n",
      "r2: a\n",
      "['a', 'b', 'b', 'a']\n",
      "a\n",
      "a\n",
      "b\n",
      "b\n",
      "b\n",
      "b\n",
      "a\n",
      "a\n",
      "True\n",
      "abbaabba\n",
      "\n",
      "r1: a\n",
      "r2: a\n",
      "r1: b\n",
      "r2: c\n",
      "r2: a\n",
      "['a', 'b']\n",
      "b\n",
      "a\n",
      "False\n",
      "abcba\n",
      "\n",
      "r1: a\n",
      "r2: a\n",
      "r1: b\n",
      "r2: c\n",
      "r2: d\n",
      "['a', 'b']\n",
      "c\n",
      "b\n",
      "False\n",
      "abcd\n"
     ]
    }
   ],
   "source": [
    "print(checkpalindrome(p1))\n",
    "print(p1)\n",
    "print()\n",
    "print(checkpalindrome(p2))\n",
    "print(p2)\n",
    "print()\n",
    "print(checkpalindrome(p3))\n",
    "print(p3)"
   ]
  },
  {
   "cell_type": "code",
   "execution_count": 18,
   "metadata": {},
   "outputs": [
    {
     "name": "stdout",
     "output_type": "stream",
     "text": [
      "23\n"
     ]
    }
   ],
   "source": [
    "ch = 'AlletsDellacallEdStella'\n",
    "print(len(ch))"
   ]
  },
  {
   "cell_type": "code",
   "execution_count": null,
   "metadata": {
    "collapsed": true
   },
   "outputs": [],
   "source": []
  }
 ],
 "metadata": {
  "kernelspec": {
   "display_name": "Python 3",
   "language": "python",
   "name": "python3"
  },
  "language_info": {
   "codemirror_mode": {
    "name": "ipython",
    "version": 3
   },
   "file_extension": ".py",
   "mimetype": "text/x-python",
   "name": "python",
   "nbconvert_exporter": "python",
   "pygments_lexer": "ipython3",
   "version": "3.5.3"
  }
 },
 "nbformat": 4,
 "nbformat_minor": 2
}
