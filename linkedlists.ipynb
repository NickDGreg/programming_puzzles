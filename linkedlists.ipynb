{
 "cells": [
  {
   "cell_type": "code",
   "execution_count": 1,
   "metadata": {},
   "outputs": [],
   "source": [
    "from linkedLists import LLNode, LinkedList"
   ]
  },
  {
   "cell_type": "code",
   "execution_count": 4,
   "metadata": {
    "collapsed": true
   },
   "outputs": [],
   "source": [
    "def createLL_from_string(string):\n",
    "    string = string.replace(' ', '').lower()\n",
    "    ll = LinkedList()\n",
    "    for letter in string:\n",
    "        ll.add(letter)\n",
    "    return ll"
   ]
  },
  {
   "cell_type": "code",
   "execution_count": 39,
   "metadata": {},
   "outputs": [],
   "source": [
    "p1 = createLL_from_string('abbaabba')\n",
    "p2 = createLL_from_string('abcba')\n",
    "p3 = createLL_from_string('abcd')\n",
    "p4 = createLL_from_string('AlletsDellacallEdStella')"
   ]
  },
  {
   "cell_type": "code",
   "execution_count": 37,
   "metadata": {},
   "outputs": [],
   "source": [
    "def checkpalindrome(ll):\n",
    "    r1 = ll.head\n",
    "    r2 = ll.head\n",
    "    letters = []\n",
    "    length = 'odd'\n",
    "    while r2.next:\n",
    "        letters.append(r1.value)\n",
    "        r1 = r1.next\n",
    "        if r2.next.next: \n",
    "            r2 = r2.next.next  \n",
    "        else:\n",
    "            r2 = r2.next\n",
    "            length = 'even'\n",
    "    if length == 'odd':\n",
    "        r1 = r1.next    \n",
    "    while r1:\n",
    "        letter = letters.pop()\n",
    "        if r1.value != letter:\n",
    "            return False\n",
    "        else:\n",
    "            r1 = r1.next\n",
    "    return True"
   ]
  },
  {
   "cell_type": "code",
   "execution_count": 40,
   "metadata": {},
   "outputs": [
    {
     "name": "stdout",
     "output_type": "stream",
     "text": [
      "True\n",
      "abbaabba\n",
      "\n",
      "True\n",
      "abcba\n",
      "\n",
      "False\n",
      "abcd\n",
      "\n",
      "True\n",
      "alletsdellacalledstella\n"
     ]
    }
   ],
   "source": [
    "print(checkpalindrome(p1))\n",
    "print(p1)\n",
    "print()\n",
    "print(checkpalindrome(p2))\n",
    "print(p2)\n",
    "print()\n",
    "print(checkpalindrome(p3))\n",
    "print(p3)\n",
    "print()\n",
    "print(checkpalindrome(p4))\n",
    "print(p4)"
   ]
  },
  {
   "cell_type": "code",
   "execution_count": 18,
   "metadata": {},
   "outputs": [
    {
     "name": "stdout",
     "output_type": "stream",
     "text": [
      "23\n"
     ]
    }
   ],
   "source": [
    "ch = 'AlletsDellacallEdStella'\n",
    "print(len(ch))"
   ]
  },
  {
   "cell_type": "code",
   "execution_count": null,
   "metadata": {
    "collapsed": true
   },
   "outputs": [],
   "source": []
  }
 ],
 "metadata": {
  "kernelspec": {
   "display_name": "Python 3",
   "language": "python",
   "name": "python3"
  },
  "language_info": {
   "codemirror_mode": {
    "name": "ipython",
    "version": 3
   },
   "file_extension": ".py",
   "mimetype": "text/x-python",
   "name": "python",
   "nbconvert_exporter": "python",
   "pygments_lexer": "ipython3",
   "version": "3.5.3"
  }
 },
 "nbformat": 4,
 "nbformat_minor": 2
}
